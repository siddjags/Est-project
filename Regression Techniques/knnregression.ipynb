{
 "cells": [
  {
   "cell_type": "code",
   "execution_count": 1,
   "metadata": {},
   "outputs": [],
   "source": [
    "import numpy as np\n",
    "import pandas as pd\n",
    "import matplotlib.pyplot as plt\n",
    "import copy"
   ]
  },
  {
   "cell_type": "code",
   "execution_count": 2,
   "metadata": {
    "scrolled": true
   },
   "outputs": [],
   "source": [
    "# Loading the csv file:\n",
    "df = pd.read_csv('/Users/siddhantjagtap/Documents/CMU Assignments/752/Project/Air quality final/regression.csv')\n",
    "\n",
    "# Normalize the dataset\n",
    "df = (df-df.mean())/df.std()"
   ]
  },
  {
   "cell_type": "code",
   "execution_count": 3,
   "metadata": {},
   "outputs": [],
   "source": [
    "# Splitting data into train, validation and test:\n",
    "\n",
    "split_train = round(0.7*(df.shape[0]))\n",
    "df_train = df.iloc[:split_train,:]\n",
    "\n",
    "split_valid = round(0.15*(df.shape[0]))\n",
    "df_valid = df.iloc[split_train:(split_train+split_valid),:]\n",
    "\n",
    "df_test = df.iloc[(split_train+split_valid):,:]"
   ]
  },
  {
   "cell_type": "code",
   "execution_count": 4,
   "metadata": {},
   "outputs": [],
   "source": [
    "# Splitting training set into features and labels:\n",
    "\n",
    "train_features = df_train[['co','no','nox','uvpm']]\n",
    "train_labels = df_train[['no2']]"
   ]
  },
  {
   "cell_type": "code",
   "execution_count": 5,
   "metadata": {},
   "outputs": [],
   "source": [
    "# Splitting validation set into features and labels:\n",
    "\n",
    "valid_features = df_valid[['co','no','nox','uvpm']]\n",
    "valid_labels = df_valid[['no2']]"
   ]
  },
  {
   "cell_type": "code",
   "execution_count": 6,
   "metadata": {},
   "outputs": [],
   "source": [
    "# Splitting test set into features and labels:\n",
    "\n",
    "test_features = df_test[['co','no','nox','uvpm']]\n",
    "test_labels = df_test[['no2']]"
   ]
  },
  {
   "cell_type": "code",
   "execution_count": 7,
   "metadata": {},
   "outputs": [],
   "source": [
    "# Function\n",
    "# Calculate distances of a point from each training point and store them in list of lists:\n",
    "# Distance Metric used is Euclidean Distance\n",
    "\n",
    "def cal_dist(valid_features,train_features):\n",
    "    list_valid_dist = []\n",
    "    for i in range(valid_features.shape[0]):\n",
    "        list_dist_point = []\n",
    "        arr1 = (valid_features.iloc[i,:]).to_numpy()\n",
    "        for j in range(df_train.shape[0]):\n",
    "            arr2 = (train_features.iloc[j,:]).to_numpy()\n",
    "            dis = np.linalg.norm(arr1-arr2)    # For Euclidean distance\n",
    "            #dis = np.sum(np.abs(arr1-arr2))     # For Manhattan distance\n",
    "            list_dist_point.append(dis)\n",
    "        list_valid_dist.append(list_dist_point)\n",
    "\n",
    "    return list_valid_dist"
   ]
  },
  {
   "cell_type": "code",
   "execution_count": 8,
   "metadata": {},
   "outputs": [],
   "source": [
    "# Function\n",
    "# Find K nearest neighbours and storing their indices:\n",
    "\n",
    "def cal_knn(list_valid_dist,k):\n",
    "    list_k = copy.deepcopy(list_valid_dist)\n",
    "    k_n_list = []\n",
    "    for dist_list in list_k:\n",
    "        list_np = []\n",
    "        for j in range(k):\n",
    "            min_index = dist_list.index(min(dist_list))\n",
    "            list_np.append(min_index)\n",
    "            dist_list.remove(dist_list[min_index])\n",
    "        k_n_list.append(list_np)\n",
    "\n",
    "    return k_n_list        "
   ]
  },
  {
   "cell_type": "code",
   "execution_count": 9,
   "metadata": {},
   "outputs": [],
   "source": [
    "# Function\n",
    "# Predicting on given dataset set:\n",
    "# Prediction is made by calculating average of labels of k nearest training points:\n",
    "\n",
    "\n",
    "def predict(valid_labels,train_labels,k_n_list,k):\n",
    "    valid_preds = np.zeros((valid_labels.shape[0],1))\n",
    "    train_np_labels = train_labels.to_numpy()\n",
    "\n",
    "    for i in range(valid_preds.shape[0]):\n",
    "        sum = 0\n",
    "        for ind in k_n_list[i]:\n",
    "            sum = sum + train_np_labels[ind,0]\n",
    "        valid_preds[i,0] = sum/k\n",
    "\n",
    "    return valid_preds"
   ]
  },
  {
   "cell_type": "code",
   "execution_count": 10,
   "metadata": {},
   "outputs": [],
   "source": [
    "# Function\n",
    "# Calculating MSE:\n",
    "\n",
    "def cal_mse(valid_preds, valid_labels):\n",
    "    valid_labels_np = valid_labels.to_numpy()\n",
    "    sqr_sum = np.sum(np.square((valid_labels_np - valid_preds)))\n",
    "    valid_mse = sqr_sum/(valid_labels_np.shape[0])\n",
    "\n",
    "    return valid_mse"
   ]
  },
  {
   "cell_type": "code",
   "execution_count": 11,
   "metadata": {},
   "outputs": [],
   "source": [
    "# Calculating distances for both train and validation set:\n",
    "\n",
    "train_dist = cal_dist(train_features,train_features)\n",
    "valid_dist = cal_dist(valid_features,train_features)"
   ]
  },
  {
   "cell_type": "code",
   "execution_count": 12,
   "metadata": {},
   "outputs": [],
   "source": [
    "# Running knn regression on training and validation data and saving the MSE values in a list:\n",
    "\n",
    "train_mse_list = []\n",
    "valid_mse_list = []\n",
    "\n",
    "for k in range(1,51):\n",
    "    \n",
    "    # Calculating Training MSE:\n",
    "    \n",
    "    train_knn = cal_knn(train_dist,k)\n",
    "    preds_train = predict(train_labels,train_labels,train_knn,k)\n",
    "    mse_train = cal_mse(preds_train, train_labels)\n",
    "    train_mse_list.append(mse_train)\n",
    "\n",
    "    # Calculating Validation MSE:\n",
    "    \n",
    "    valid_knn = cal_knn(valid_dist,k)\n",
    "    preds_valid = predict(valid_labels,train_labels,valid_knn,k)\n",
    "    mse_valid = cal_mse(preds_valid, valid_labels)\n",
    "    valid_mse_list.append(mse_valid)\n"
   ]
  },
  {
   "cell_type": "code",
   "execution_count": 13,
   "metadata": {},
   "outputs": [
    {
     "data": {
      "image/png": "[encoded data removed]",
      "text/plain": [
       "<Figure size 432x288 with 1 Axes>"
      ]
     },
     "metadata": {
      "needs_background": "light"
     },
     "output_type": "display_data"
    }
   ],
   "source": [
    "# Plotting training MSE and validation MSE against k:\n",
    "\n",
    "k_range = list(range(1,51))\n",
    "plt.plot(k_range,train_mse_list,label= 'Training MSE')\n",
    "plt.plot(k_range,valid_mse_list,label = 'Validation MSE')\n",
    "plt.xlabel('k')\n",
    "plt.ylabel('Mean Squared Error')\n",
    "plt.legend()\n",
    "plt.show()"
   ]
  },
  {
   "cell_type": "code",
   "execution_count": 14,
   "metadata": {},
   "outputs": [],
   "source": [
    "k_final = 1"
   ]
  },
  {
   "cell_type": "code",
   "execution_count": 15,
   "metadata": {},
   "outputs": [
    {
     "name": "stdout",
     "output_type": "stream",
     "text": [
      "0.07971697975879788\n",
      "no2    0.088157\n",
      "dtype: float64\n"
     ]
    }
   ],
   "source": [
    "# Testing on test data:\n",
    "test_dist = cal_dist(test_features,train_features)\n",
    "test_knn = cal_knn(test_dist,k_final)\n",
    "preds_test = predict(test_labels,train_labels,test_knn,k_final)\n",
    "mse_test = cal_mse(preds_test, test_labels)\n",
    "print(mse_test)\n",
    "print(mse_test/test_labels.var())"
   ]
  },
  {
   "cell_type": "code",
   "execution_count": null,
   "metadata": {},
   "outputs": [],
   "source": []
  }
 ],
 "metadata": {
  "kernelspec": {
   "display_name": "Python 3",
   "language": "python",
   "name": "python3"
  },
  "language_info": {
   "codemirror_mode": {
    "name": "ipython",
    "version": 3
   },
   "file_extension": ".py",
   "mimetype": "text/x-python",
   "name": "python",
   "nbconvert_exporter": "python",
   "pygments_lexer": "ipython3",
   "version": "3.7.4"
  }
 },
 "nbformat": 4,
 "nbformat_minor": 2
}
